{
 "metadata": {
  "language_info": {
   "codemirror_mode": {
    "name": "ipython",
    "version": 3
   },
   "file_extension": ".py",
   "mimetype": "text/x-python",
   "name": "python",
   "nbconvert_exporter": "python",
   "pygments_lexer": "ipython3",
   "version": "3.8.6-final"
  },
  "orig_nbformat": 2,
  "kernelspec": {
   "name": "python3",
   "display_name": "Python 3.8.6 64-bit",
   "metadata": {
    "interpreter": {
     "hash": "082e9a3bcad0a290d0001e938aa60b99250c6c2ef33a923c00b70f9826caf4b7"
    }
   }
  }
 },
 "nbformat": 4,
 "nbformat_minor": 2,
 "cells": [
  {
   "cell_type": "code",
   "execution_count": 2,
   "metadata": {},
   "outputs": [],
   "source": [
    "from pykrx import stock"
   ]
  },
  {
   "cell_type": "code",
   "execution_count": 3,
   "metadata": {},
   "outputs": [
    {
     "output_type": "execute_result",
     "data": {
      "text/plain": [
       "          BPS        PER       PBR   EPS       DIV   DPS\n",
       "티커                                                      \n",
       "095570   6802   4.070312  0.589844   982  7.500000   300\n",
       "006840  62448  13.242188  0.459961  2168  2.609375   750\n",
       "027410  15699  23.234375  0.419922   281  1.679688   110\n",
       "282330  36022  19.687500  4.789062  8763  1.570312  2700\n",
       "138930  25415   3.900391  0.250000  1647  5.609375   360\n",
       "...       ...        ...       ...   ...       ...   ...\n",
       "069260  15970  13.218750  1.500000  1812  4.179688  1000\n",
       "000540  10926   7.570312  0.350098   510  0.000000     0\n",
       "000547      0   0.000000  0.000000     0  0.000000     0\n",
       "000545      0   0.000000  0.000000     0  0.000000     0\n",
       "003280    276   0.000000  0.930176     0  0.000000     0\n",
       "\n",
       "[898 rows x 6 columns]"
      ],
      "text/html": "<div>\n<style scoped>\n    .dataframe tbody tr th:only-of-type {\n        vertical-align: middle;\n    }\n\n    .dataframe tbody tr th {\n        vertical-align: top;\n    }\n\n    .dataframe thead th {\n        text-align: right;\n    }\n</style>\n<table border=\"1\" class=\"dataframe\">\n  <thead>\n    <tr style=\"text-align: right;\">\n      <th></th>\n      <th>BPS</th>\n      <th>PER</th>\n      <th>PBR</th>\n      <th>EPS</th>\n      <th>DIV</th>\n      <th>DPS</th>\n    </tr>\n    <tr>\n      <th>티커</th>\n      <th></th>\n      <th></th>\n      <th></th>\n      <th></th>\n      <th></th>\n      <th></th>\n    </tr>\n  </thead>\n  <tbody>\n    <tr>\n      <th>095570</th>\n      <td>6802</td>\n      <td>4.070312</td>\n      <td>0.589844</td>\n      <td>982</td>\n      <td>7.500000</td>\n      <td>300</td>\n    </tr>\n    <tr>\n      <th>006840</th>\n      <td>62448</td>\n      <td>13.242188</td>\n      <td>0.459961</td>\n      <td>2168</td>\n      <td>2.609375</td>\n      <td>750</td>\n    </tr>\n    <tr>\n      <th>027410</th>\n      <td>15699</td>\n      <td>23.234375</td>\n      <td>0.419922</td>\n      <td>281</td>\n      <td>1.679688</td>\n      <td>110</td>\n    </tr>\n    <tr>\n      <th>282330</th>\n      <td>36022</td>\n      <td>19.687500</td>\n      <td>4.789062</td>\n      <td>8763</td>\n      <td>1.570312</td>\n      <td>2700</td>\n    </tr>\n    <tr>\n      <th>138930</th>\n      <td>25415</td>\n      <td>3.900391</td>\n      <td>0.250000</td>\n      <td>1647</td>\n      <td>5.609375</td>\n      <td>360</td>\n    </tr>\n    <tr>\n      <th>...</th>\n      <td>...</td>\n      <td>...</td>\n      <td>...</td>\n      <td>...</td>\n      <td>...</td>\n      <td>...</td>\n    </tr>\n    <tr>\n      <th>069260</th>\n      <td>15970</td>\n      <td>13.218750</td>\n      <td>1.500000</td>\n      <td>1812</td>\n      <td>4.179688</td>\n      <td>1000</td>\n    </tr>\n    <tr>\n      <th>000540</th>\n      <td>10926</td>\n      <td>7.570312</td>\n      <td>0.350098</td>\n      <td>510</td>\n      <td>0.000000</td>\n      <td>0</td>\n    </tr>\n    <tr>\n      <th>000547</th>\n      <td>0</td>\n      <td>0.000000</td>\n      <td>0.000000</td>\n      <td>0</td>\n      <td>0.000000</td>\n      <td>0</td>\n    </tr>\n    <tr>\n      <th>000545</th>\n      <td>0</td>\n      <td>0.000000</td>\n      <td>0.000000</td>\n      <td>0</td>\n      <td>0.000000</td>\n      <td>0</td>\n    </tr>\n    <tr>\n      <th>003280</th>\n      <td>276</td>\n      <td>0.000000</td>\n      <td>0.930176</td>\n      <td>0</td>\n      <td>0.000000</td>\n      <td>0</td>\n    </tr>\n  </tbody>\n</table>\n<p>898 rows × 6 columns</p>\n</div>"
     },
     "metadata": {},
     "execution_count": 3
    }
   ],
   "source": [
    "df = stock.get_market_fundamental_by_ticker(\"20210312\")\n",
    "df"
   ]
  },
  {
   "cell_type": "code",
   "execution_count": 3,
   "metadata": {},
   "outputs": [
    {
     "output_type": "execute_result",
     "data": {
      "text/plain": [
       "'CS홀딩스'"
      ]
     },
     "metadata": {},
     "execution_count": 3
    }
   ],
   "source": [
    "stock.get_market_ticker_name('000590')"
   ]
  },
  {
   "cell_type": "code",
   "execution_count": 4,
   "metadata": {},
   "outputs": [
    {
     "output_type": "execute_result",
     "data": {
      "text/plain": [
       "            상장주식수      보유수량        지분율       한도수량      한도소진율\n",
       "티커                                                          \n",
       "000020   27931470    798356   2.859375   27931470   2.859375\n",
       "000040   96137368  44129426  45.906250   96137368  45.906250\n",
       "000050   27415270    820902   2.990234   27415270   2.990234\n",
       "000060  120625000  12729767  10.546875  120625000  10.546875\n",
       "000070    8564271    651966   7.609375    8564271   7.609375\n",
       "...           ...       ...        ...        ...        ...\n",
       "365550  143259000  36326638  25.359375  143259000  25.359375\n",
       "375500   19358738   3760378  19.421875   19358738  19.421875\n",
       "37550K    2113885    154577   7.308594    2113885   7.308594\n",
       "900140   84348589   1782955   2.109375   84348589   2.109375\n",
       "950210   60096155         0   0.000000   60096155   0.000000\n",
       "\n",
       "[921 rows x 5 columns]"
      ],
      "text/html": "<div>\n<style scoped>\n    .dataframe tbody tr th:only-of-type {\n        vertical-align: middle;\n    }\n\n    .dataframe tbody tr th {\n        vertical-align: top;\n    }\n\n    .dataframe thead th {\n        text-align: right;\n    }\n</style>\n<table border=\"1\" class=\"dataframe\">\n  <thead>\n    <tr style=\"text-align: right;\">\n      <th></th>\n      <th>상장주식수</th>\n      <th>보유수량</th>\n      <th>지분율</th>\n      <th>한도수량</th>\n      <th>한도소진율</th>\n    </tr>\n    <tr>\n      <th>티커</th>\n      <th></th>\n      <th></th>\n      <th></th>\n      <th></th>\n      <th></th>\n    </tr>\n  </thead>\n  <tbody>\n    <tr>\n      <th>000020</th>\n      <td>27931470</td>\n      <td>798356</td>\n      <td>2.859375</td>\n      <td>27931470</td>\n      <td>2.859375</td>\n    </tr>\n    <tr>\n      <th>000040</th>\n      <td>96137368</td>\n      <td>44129426</td>\n      <td>45.906250</td>\n      <td>96137368</td>\n      <td>45.906250</td>\n    </tr>\n    <tr>\n      <th>000050</th>\n      <td>27415270</td>\n      <td>820902</td>\n      <td>2.990234</td>\n      <td>27415270</td>\n      <td>2.990234</td>\n    </tr>\n    <tr>\n      <th>000060</th>\n      <td>120625000</td>\n      <td>12729767</td>\n      <td>10.546875</td>\n      <td>120625000</td>\n      <td>10.546875</td>\n    </tr>\n    <tr>\n      <th>000070</th>\n      <td>8564271</td>\n      <td>651966</td>\n      <td>7.609375</td>\n      <td>8564271</td>\n      <td>7.609375</td>\n    </tr>\n    <tr>\n      <th>...</th>\n      <td>...</td>\n      <td>...</td>\n      <td>...</td>\n      <td>...</td>\n      <td>...</td>\n    </tr>\n    <tr>\n      <th>365550</th>\n      <td>143259000</td>\n      <td>36326638</td>\n      <td>25.359375</td>\n      <td>143259000</td>\n      <td>25.359375</td>\n    </tr>\n    <tr>\n      <th>375500</th>\n      <td>19358738</td>\n      <td>3760378</td>\n      <td>19.421875</td>\n      <td>19358738</td>\n      <td>19.421875</td>\n    </tr>\n    <tr>\n      <th>37550K</th>\n      <td>2113885</td>\n      <td>154577</td>\n      <td>7.308594</td>\n      <td>2113885</td>\n      <td>7.308594</td>\n    </tr>\n    <tr>\n      <th>900140</th>\n      <td>84348589</td>\n      <td>1782955</td>\n      <td>2.109375</td>\n      <td>84348589</td>\n      <td>2.109375</td>\n    </tr>\n    <tr>\n      <th>950210</th>\n      <td>60096155</td>\n      <td>0</td>\n      <td>0.000000</td>\n      <td>60096155</td>\n      <td>0.000000</td>\n    </tr>\n  </tbody>\n</table>\n<p>921 rows × 5 columns</p>\n</div>"
     },
     "metadata": {},
     "execution_count": 4
    }
   ],
   "source": [
    "#외국인\n",
    "stock.get_exhaustion_rates_of_foreign_investment_by_ticker('20210311')"
   ]
  },
  {
   "cell_type": "code",
   "execution_count": 5,
   "metadata": {},
   "outputs": [],
   "source": [
    "#인덱스(섹터)\n",
    "index = stock.get_index_ticker_list()"
   ]
  },
  {
   "cell_type": "code",
   "execution_count": 6,
   "metadata": {},
   "outputs": [
    {
     "output_type": "execute_result",
     "data": {
      "text/plain": [
       "['1001',\n",
       " '1002',\n",
       " '1003',\n",
       " '1004',\n",
       " '1005',\n",
       " '1006',\n",
       " '1007',\n",
       " '1008',\n",
       " '1009',\n",
       " '1010',\n",
       " '1011',\n",
       " '1012',\n",
       " '1013',\n",
       " '1014',\n",
       " '1015',\n",
       " '1016',\n",
       " '1017',\n",
       " '1018',\n",
       " '1019',\n",
       " '1020',\n",
       " '1021',\n",
       " '1022',\n",
       " '1024',\n",
       " '1025',\n",
       " '1026',\n",
       " '1027',\n",
       " '1028',\n",
       " '1034',\n",
       " '1035',\n",
       " '1150',\n",
       " '1151',\n",
       " '1152',\n",
       " '1153',\n",
       " '1154',\n",
       " '1155',\n",
       " '1156',\n",
       " '1157',\n",
       " '1158',\n",
       " '1159',\n",
       " '1160',\n",
       " '1167',\n",
       " '1182',\n",
       " '1224',\n",
       " '1227',\n",
       " '1232',\n",
       " '1244']"
      ]
     },
     "metadata": {},
     "execution_count": 6
    }
   ],
   "source": [
    "index"
   ]
  },
  {
   "cell_type": "code",
   "execution_count": 7,
   "metadata": {},
   "outputs": [],
   "source": [
    "name = []\n",
    "for idx in index:\n",
    "    name.append(stock.get_index_ticker_name(idx))"
   ]
  },
  {
   "cell_type": "code",
   "execution_count": 8,
   "metadata": {},
   "outputs": [
    {
     "output_type": "execute_result",
     "data": {
      "text/plain": [
       "['코스피',\n",
       " '코스피 대형주',\n",
       " '코스피 중형주',\n",
       " '코스피 소형주',\n",
       " '음식료품',\n",
       " '섬유의복',\n",
       " '종이목재',\n",
       " '화학',\n",
       " '의약품',\n",
       " '비금속광물',\n",
       " '철강금속',\n",
       " '기계',\n",
       " '전기전자',\n",
       " '의료정밀',\n",
       " '운수장비',\n",
       " '유통업',\n",
       " '전기가스업',\n",
       " '건설업',\n",
       " '운수창고업',\n",
       " '통신업',\n",
       " '금융업',\n",
       " '은행',\n",
       " '증권',\n",
       " '보험',\n",
       " '서비스업',\n",
       " '제조업',\n",
       " '코스피 200',\n",
       " '코스피 100',\n",
       " '코스피 50',\n",
       " '코스피 200 커뮤니케이션서비스',\n",
       " '코스피 200 건설',\n",
       " '코스피 200 중공업',\n",
       " '코스피 200 철강/소재',\n",
       " '코스피 200 에너지/화학',\n",
       " '코스피 200 정보기술',\n",
       " '코스피 200 금융',\n",
       " '코스피 200 생활소비재',\n",
       " '코스피 200 경기소비재',\n",
       " '코스피 200 산업재',\n",
       " '코스피 200 헬스케어',\n",
       " '코스피 200 중소형주',\n",
       " '코스피 200 초대형제외 지수',\n",
       " '코스피 200 비중상한 30%',\n",
       " '코스피 200 비중상한 25%',\n",
       " '코스피 200 비중상한 20%',\n",
       " '코스피200제외 코스피지수']"
      ]
     },
     "metadata": {},
     "execution_count": 8
    }
   ],
   "source": [
    "name"
   ]
  },
  {
   "cell_type": "code",
   "execution_count": 9,
   "metadata": {},
   "outputs": [],
   "source": [
    "sector = []\n",
    "for idx, nm in zip(index, name):\n",
    "    sector.append(idx + nm)"
   ]
  },
  {
   "cell_type": "code",
   "execution_count": 10,
   "metadata": {},
   "outputs": [
    {
     "output_type": "execute_result",
     "data": {
      "text/plain": [
       "['1001코스피',\n",
       " '1002코스피 대형주',\n",
       " '1003코스피 중형주',\n",
       " '1004코스피 소형주',\n",
       " '1005음식료품',\n",
       " '1006섬유의복',\n",
       " '1007종이목재',\n",
       " '1008화학',\n",
       " '1009의약품',\n",
       " '1010비금속광물',\n",
       " '1011철강금속',\n",
       " '1012기계',\n",
       " '1013전기전자',\n",
       " '1014의료정밀',\n",
       " '1015운수장비',\n",
       " '1016유통업',\n",
       " '1017전기가스업',\n",
       " '1018건설업',\n",
       " '1019운수창고업',\n",
       " '1020통신업',\n",
       " '1021금융업',\n",
       " '1022은행',\n",
       " '1024증권',\n",
       " '1025보험',\n",
       " '1026서비스업',\n",
       " '1027제조업',\n",
       " '1028코스피 200',\n",
       " '1034코스피 100',\n",
       " '1035코스피 50',\n",
       " '1150코스피 200 커뮤니케이션서비스',\n",
       " '1151코스피 200 건설',\n",
       " '1152코스피 200 중공업',\n",
       " '1153코스피 200 철강/소재',\n",
       " '1154코스피 200 에너지/화학',\n",
       " '1155코스피 200 정보기술',\n",
       " '1156코스피 200 금융',\n",
       " '1157코스피 200 생활소비재',\n",
       " '1158코스피 200 경기소비재',\n",
       " '1159코스피 200 산업재',\n",
       " '1160코스피 200 헬스케어',\n",
       " '1167코스피 200 중소형주',\n",
       " '1182코스피 200 초대형제외 지수',\n",
       " '1224코스피 200 비중상한 30%',\n",
       " '1227코스피 200 비중상한 25%',\n",
       " '1232코스피 200 비중상한 20%',\n",
       " '1244코스피200제외 코스피지수']"
      ]
     },
     "metadata": {},
     "execution_count": 10
    }
   ],
   "source": [
    "sector"
   ]
  },
  {
   "cell_type": "code",
   "execution_count": 11,
   "metadata": {},
   "outputs": [],
   "source": [
    "import time\n",
    "\n",
    "stocks = []\n",
    "for idx in index:\n",
    "    stocks.append(stock.get_index_portfolio_deposit_file(idx))\n",
    "    time.sleep(3)    "
   ]
  },
  {
   "cell_type": "code",
   "execution_count": 12,
   "metadata": {},
   "outputs": [],
   "source": [
    "dic = {}\n",
    "\n",
    "for key, value in zip(sector, stocks):\n",
    "    dic[key] = value"
   ]
  },
  {
   "cell_type": "code",
   "execution_count": 13,
   "metadata": {},
   "outputs": [
    {
     "output_type": "execute_result",
     "data": {
      "text/plain": [
       "['007700',\n",
       " '020000',\n",
       " '105630',\n",
       " '093050',\n",
       " '016450',\n",
       " '001460',\n",
       " '001070',\n",
       " '003200',\n",
       " '102280',\n",
       " '093240',\n",
       " '009270',\n",
       " '016090',\n",
       " '002070',\n",
       " '007980',\n",
       " '003610',\n",
       " '111110',\n",
       " '005800',\n",
       " '014990',\n",
       " '090370',\n",
       " '000950',\n",
       " '005820',\n",
       " '084870',\n",
       " '011300',\n",
       " '008500']"
      ]
     },
     "metadata": {},
     "execution_count": 13
    }
   ],
   "source": [
    "dic['1006섬유의복']"
   ]
  },
  {
   "cell_type": "code",
   "execution_count": 4,
   "metadata": {},
   "outputs": [],
   "source": [
    "df = stock.get_market_fundamental_by_ticker(\"20210311\")"
   ]
  },
  {
   "cell_type": "code",
   "execution_count": 10,
   "metadata": {},
   "outputs": [
    {
     "output_type": "execute_result",
     "data": {
      "text/plain": [
       "          BPS  PER       PBR  EPS  DIV  DPS\n",
       "티커                                         \n",
       "042660  35025  0.0  0.720215    0  0.0    0"
      ],
      "text/html": "<div>\n<style scoped>\n    .dataframe tbody tr th:only-of-type {\n        vertical-align: middle;\n    }\n\n    .dataframe tbody tr th {\n        vertical-align: top;\n    }\n\n    .dataframe thead th {\n        text-align: right;\n    }\n</style>\n<table border=\"1\" class=\"dataframe\">\n  <thead>\n    <tr style=\"text-align: right;\">\n      <th></th>\n      <th>BPS</th>\n      <th>PER</th>\n      <th>PBR</th>\n      <th>EPS</th>\n      <th>DIV</th>\n      <th>DPS</th>\n    </tr>\n    <tr>\n      <th>티커</th>\n      <th></th>\n      <th></th>\n      <th></th>\n      <th></th>\n      <th></th>\n      <th></th>\n    </tr>\n  </thead>\n  <tbody>\n    <tr>\n      <th>042660</th>\n      <td>35025</td>\n      <td>0.0</td>\n      <td>0.720215</td>\n      <td>0</td>\n      <td>0.0</td>\n      <td>0</td>\n    </tr>\n  </tbody>\n</table>\n</div>"
     },
     "metadata": {},
     "execution_count": 10
    }
   ],
   "source": [
    "df[df.index == '042660']"
   ]
  },
  {
   "cell_type": "code",
   "execution_count": null,
   "metadata": {},
   "outputs": [],
   "source": []
  }
 ]
}