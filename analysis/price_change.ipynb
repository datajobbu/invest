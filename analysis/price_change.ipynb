{
 "metadata": {
  "language_info": {
   "codemirror_mode": {
    "name": "ipython",
    "version": 3
   },
   "file_extension": ".py",
   "mimetype": "text/x-python",
   "name": "python",
   "nbconvert_exporter": "python",
   "pygments_lexer": "ipython3",
   "version": "3.8.6-final"
  },
  "orig_nbformat": 2,
  "kernelspec": {
   "name": "python3",
   "display_name": "Python 3",
   "language": "python"
  }
 },
 "nbformat": 4,
 "nbformat_minor": 2,
 "cells": [
  {
   "cell_type": "code",
   "execution_count": 1,
   "metadata": {},
   "outputs": [],
   "source": [
    "import datetime\n",
    "\n",
    "from pykrx import stock"
   ]
  },
  {
   "cell_type": "code",
   "execution_count": 22,
   "metadata": {},
   "outputs": [],
   "source": [
    "today = datetime.date.today()\n",
    "weekago = today - datetime.timedelta(days=7)\n",
    "monthago = today - datetime.timedelta(days=30)"
   ]
  },
  {
   "cell_type": "code",
   "execution_count": 23,
   "metadata": {},
   "outputs": [],
   "source": [
    "today = today.strftime('%Y%m%d')\n",
    "weekago = weekago.strftime('%Y%m%d')\n",
    "monthago = monthago.strftime('%Y%m%d')"
   ]
  },
  {
   "cell_type": "code",
   "execution_count": 24,
   "metadata": {},
   "outputs": [],
   "source": [
    "week_df = stock.get_market_price_change_by_ticker(weekago, today)\n",
    "month_df = stock.get_market_price_change_by_ticker(monthago, today)"
   ]
  },
  {
   "cell_type": "code",
   "execution_count": 8,
   "metadata": {},
   "outputs": [
    {
     "output_type": "execute_result",
     "data": {
      "text/plain": [
       "            종목명     시가      종가    변동폭      등락률        거래량           거래대금\n",
       "티커                                                                      \n",
       "097230    한진중공업   1190    7220   6030  50672.0   67338061   194264718925\n",
       "18064K     한진칼우  16600   53500  36900  22229.0   15562838   861441620500\n",
       "033250      체시스    940    2245   1305  13883.0  100986343   151416742703\n",
       "002995    금호산업우  25050   59600  34550  13792.0    6587971   397561584200\n",
       "001745  SK네트웍스우  55700  108500  52800   9479.0    1764727   210312827600\n",
       "009190     대양금속   4200    8060   3860   9190.0    2735664    17788875205\n",
       "015590       큐로    548     971    423   7719.0   74311529    62711251850\n",
       "001630   종근당홀딩스  67300  116500  49200   7311.0    1686878   157765959400\n",
       "008350    남선알미늄   2300    3905   1605   6978.0  554701947  1806682783745\n",
       "180640      한진칼  25500   42650  17150   6725.0  179115917  6684234845600\n",
       "008355    남선알미우  25200   42000  16800   6667.0    4290468   157459937800\n",
       "004270       남성   1830    2995   1165   6366.0  176606182   513579000035\n",
       "002700     신일산업   1480    2415    935   6318.0  742901435  1667904036000\n",
       "027740      마니커    775    1240    465   6000.0  862222378   997663648067\n",
       "000885      한화우  20950   33350  12400   5919.0    8395570   335670074150\n",
       "047400  유니온머티리얼   1945    3090   1145   5887.0  248908844   748437801515\n",
       "011280     태림포장   4650    7350   2700   5806.0  153716746  1100346633650\n",
       "012510    더존비즈온  42500   65600  23100   5435.0    7365514   397629767705\n",
       "012600     청호컴넷   2630    4020   1390   5285.0   28719386   128609459210\n",
       "298690     에어부산   4515    6800   2285   5061.0  203495053  1467056337650\n",
       "002170     삼양통상  43300   64400  21100   4873.0    1038443    60363327600\n",
       "006980     우성사료   2655    3925   1270   4783.0  305582550  1140813880650\n",
       "001070     대한방직  14100   20550   6450   4574.0    1548893    29894079850\n",
       "000910      유니온   4265    6180   1915   4490.0  127373107   809282266815\n",
       "035150       백산   7060   10200   3140   4448.0   16407849   151710321300\n",
       "011330      유니켐   1675    2415    740   4418.0  152740426   341205292630\n",
       "014825  동원시스템즈우  20000   28800   8800   4400.0     796185    29333953900\n",
       "001530     DI동일  64100   92000  27900   4353.0     938880    80751853000\n",
       "020560   아시아나항공   4220    6000   1780   4218.0  583664682  3699858354480\n",
       "003495    대한항공우  14600   20650   6050   4144.0   18361498   507593971200"
      ],
      "text/html": "<div>\n<style scoped>\n    .dataframe tbody tr th:only-of-type {\n        vertical-align: middle;\n    }\n\n    .dataframe tbody tr th {\n        vertical-align: top;\n    }\n\n    .dataframe thead th {\n        text-align: right;\n    }\n</style>\n<table border=\"1\" class=\"dataframe\">\n  <thead>\n    <tr style=\"text-align: right;\">\n      <th></th>\n      <th>종목명</th>\n      <th>시가</th>\n      <th>종가</th>\n      <th>변동폭</th>\n      <th>등락률</th>\n      <th>거래량</th>\n      <th>거래대금</th>\n    </tr>\n    <tr>\n      <th>티커</th>\n      <th></th>\n      <th></th>\n      <th></th>\n      <th></th>\n      <th></th>\n      <th></th>\n      <th></th>\n    </tr>\n  </thead>\n  <tbody>\n    <tr>\n      <th>097230</th>\n      <td>한진중공업</td>\n      <td>1190</td>\n      <td>7220</td>\n      <td>6030</td>\n      <td>50672.0</td>\n      <td>67338061</td>\n      <td>194264718925</td>\n    </tr>\n    <tr>\n      <th>18064K</th>\n      <td>한진칼우</td>\n      <td>16600</td>\n      <td>53500</td>\n      <td>36900</td>\n      <td>22229.0</td>\n      <td>15562838</td>\n      <td>861441620500</td>\n    </tr>\n    <tr>\n      <th>033250</th>\n      <td>체시스</td>\n      <td>940</td>\n      <td>2245</td>\n      <td>1305</td>\n      <td>13883.0</td>\n      <td>100986343</td>\n      <td>151416742703</td>\n    </tr>\n    <tr>\n      <th>002995</th>\n      <td>금호산업우</td>\n      <td>25050</td>\n      <td>59600</td>\n      <td>34550</td>\n      <td>13792.0</td>\n      <td>6587971</td>\n      <td>397561584200</td>\n    </tr>\n    <tr>\n      <th>001745</th>\n      <td>SK네트웍스우</td>\n      <td>55700</td>\n      <td>108500</td>\n      <td>52800</td>\n      <td>9479.0</td>\n      <td>1764727</td>\n      <td>210312827600</td>\n    </tr>\n    <tr>\n      <th>009190</th>\n      <td>대양금속</td>\n      <td>4200</td>\n      <td>8060</td>\n      <td>3860</td>\n      <td>9190.0</td>\n      <td>2735664</td>\n      <td>17788875205</td>\n    </tr>\n    <tr>\n      <th>015590</th>\n      <td>큐로</td>\n      <td>548</td>\n      <td>971</td>\n      <td>423</td>\n      <td>7719.0</td>\n      <td>74311529</td>\n      <td>62711251850</td>\n    </tr>\n    <tr>\n      <th>001630</th>\n      <td>종근당홀딩스</td>\n      <td>67300</td>\n      <td>116500</td>\n      <td>49200</td>\n      <td>7311.0</td>\n      <td>1686878</td>\n      <td>157765959400</td>\n    </tr>\n    <tr>\n      <th>008350</th>\n      <td>남선알미늄</td>\n      <td>2300</td>\n      <td>3905</td>\n      <td>1605</td>\n      <td>6978.0</td>\n      <td>554701947</td>\n      <td>1806682783745</td>\n    </tr>\n    <tr>\n      <th>180640</th>\n      <td>한진칼</td>\n      <td>25500</td>\n      <td>42650</td>\n      <td>17150</td>\n      <td>6725.0</td>\n      <td>179115917</td>\n      <td>6684234845600</td>\n    </tr>\n    <tr>\n      <th>008355</th>\n      <td>남선알미우</td>\n      <td>25200</td>\n      <td>42000</td>\n      <td>16800</td>\n      <td>6667.0</td>\n      <td>4290468</td>\n      <td>157459937800</td>\n    </tr>\n    <tr>\n      <th>004270</th>\n      <td>남성</td>\n      <td>1830</td>\n      <td>2995</td>\n      <td>1165</td>\n      <td>6366.0</td>\n      <td>176606182</td>\n      <td>513579000035</td>\n    </tr>\n    <tr>\n      <th>002700</th>\n      <td>신일산업</td>\n      <td>1480</td>\n      <td>2415</td>\n      <td>935</td>\n      <td>6318.0</td>\n      <td>742901435</td>\n      <td>1667904036000</td>\n    </tr>\n    <tr>\n      <th>027740</th>\n      <td>마니커</td>\n      <td>775</td>\n      <td>1240</td>\n      <td>465</td>\n      <td>6000.0</td>\n      <td>862222378</td>\n      <td>997663648067</td>\n    </tr>\n    <tr>\n      <th>000885</th>\n      <td>한화우</td>\n      <td>20950</td>\n      <td>33350</td>\n      <td>12400</td>\n      <td>5919.0</td>\n      <td>8395570</td>\n      <td>335670074150</td>\n    </tr>\n    <tr>\n      <th>047400</th>\n      <td>유니온머티리얼</td>\n      <td>1945</td>\n      <td>3090</td>\n      <td>1145</td>\n      <td>5887.0</td>\n      <td>248908844</td>\n      <td>748437801515</td>\n    </tr>\n    <tr>\n      <th>011280</th>\n      <td>태림포장</td>\n      <td>4650</td>\n      <td>7350</td>\n      <td>2700</td>\n      <td>5806.0</td>\n      <td>153716746</td>\n      <td>1100346633650</td>\n    </tr>\n    <tr>\n      <th>012510</th>\n      <td>더존비즈온</td>\n      <td>42500</td>\n      <td>65600</td>\n      <td>23100</td>\n      <td>5435.0</td>\n      <td>7365514</td>\n      <td>397629767705</td>\n    </tr>\n    <tr>\n      <th>012600</th>\n      <td>청호컴넷</td>\n      <td>2630</td>\n      <td>4020</td>\n      <td>1390</td>\n      <td>5285.0</td>\n      <td>28719386</td>\n      <td>128609459210</td>\n    </tr>\n    <tr>\n      <th>298690</th>\n      <td>에어부산</td>\n      <td>4515</td>\n      <td>6800</td>\n      <td>2285</td>\n      <td>5061.0</td>\n      <td>203495053</td>\n      <td>1467056337650</td>\n    </tr>\n    <tr>\n      <th>002170</th>\n      <td>삼양통상</td>\n      <td>43300</td>\n      <td>64400</td>\n      <td>21100</td>\n      <td>4873.0</td>\n      <td>1038443</td>\n      <td>60363327600</td>\n    </tr>\n    <tr>\n      <th>006980</th>\n      <td>우성사료</td>\n      <td>2655</td>\n      <td>3925</td>\n      <td>1270</td>\n      <td>4783.0</td>\n      <td>305582550</td>\n      <td>1140813880650</td>\n    </tr>\n    <tr>\n      <th>001070</th>\n      <td>대한방직</td>\n      <td>14100</td>\n      <td>20550</td>\n      <td>6450</td>\n      <td>4574.0</td>\n      <td>1548893</td>\n      <td>29894079850</td>\n    </tr>\n    <tr>\n      <th>000910</th>\n      <td>유니온</td>\n      <td>4265</td>\n      <td>6180</td>\n      <td>1915</td>\n      <td>4490.0</td>\n      <td>127373107</td>\n      <td>809282266815</td>\n    </tr>\n    <tr>\n      <th>035150</th>\n      <td>백산</td>\n      <td>7060</td>\n      <td>10200</td>\n      <td>3140</td>\n      <td>4448.0</td>\n      <td>16407849</td>\n      <td>151710321300</td>\n    </tr>\n    <tr>\n      <th>011330</th>\n      <td>유니켐</td>\n      <td>1675</td>\n      <td>2415</td>\n      <td>740</td>\n      <td>4418.0</td>\n      <td>152740426</td>\n      <td>341205292630</td>\n    </tr>\n    <tr>\n      <th>014825</th>\n      <td>동원시스템즈우</td>\n      <td>20000</td>\n      <td>28800</td>\n      <td>8800</td>\n      <td>4400.0</td>\n      <td>796185</td>\n      <td>29333953900</td>\n    </tr>\n    <tr>\n      <th>001530</th>\n      <td>DI동일</td>\n      <td>64100</td>\n      <td>92000</td>\n      <td>27900</td>\n      <td>4353.0</td>\n      <td>938880</td>\n      <td>80751853000</td>\n    </tr>\n    <tr>\n      <th>020560</th>\n      <td>아시아나항공</td>\n      <td>4220</td>\n      <td>6000</td>\n      <td>1780</td>\n      <td>4218.0</td>\n      <td>583664682</td>\n      <td>3699858354480</td>\n    </tr>\n    <tr>\n      <th>003495</th>\n      <td>대한항공우</td>\n      <td>14600</td>\n      <td>20650</td>\n      <td>6050</td>\n      <td>4144.0</td>\n      <td>18361498</td>\n      <td>507593971200</td>\n    </tr>\n  </tbody>\n</table>\n</div>"
     },
     "metadata": {},
     "execution_count": 8
    }
   ],
   "source": [
    "spring_df = stock.get_market_price_change_by_ticker('20190301', '20190531')\n",
    "spring_df.sort_values('등락률', ascending=False).head(30)"
   ]
  },
  {
   "cell_type": "code",
   "execution_count": 9,
   "metadata": {},
   "outputs": [
    {
     "output_type": "execute_result",
     "data": {
      "text/plain": [
       "             종목명     시가      종가     변동폭      등락률        거래량           거래대금\n",
       "티커                                                                        \n",
       "011390      부산산업  37350  236500  199150  53320.0    6703921  1071435700700\n",
       "069460     대호에이엘   1235    7710    6475  52429.0  407474677  1761967477807\n",
       "006390     현대시멘트  14800   82300   67500  45608.0   25845105  1183863721700\n",
       "000725     현대건설우  48900  256000  207100  42352.0     640700   130457888700\n",
       "004985     성신양회우   4930   22000   17070  34625.0    9779103   129225868950\n",
       "001260      남광토건   6380   28000   21620  33887.0   43589767   987283263940\n",
       "006490      인스코비   2730   10200    7470  27363.0  686311775  6075568899130\n",
       "008970      동양철관    876    3265    2389  27272.0  983691990  2026803396045\n",
       "012205     계양전기우   3515   13100    9585  27269.0   18574164   262223627535\n",
       "005690       파미셀   6100   19650   13550  22213.0  418325640  7111569014460\n",
       "004980      성신양회   5520   17000   11480  20797.0   89853305  1080538284500\n",
       "006345     대원전선우   2300    6690    4390  19087.0   39213671   224607983635\n",
       "003010        혜인   3530    9720    6190  17535.0  174444069  1314662201265\n",
       "006340      대원전선   1115    3035    1920  17220.0  656349109  1464869220625\n",
       "007110      일신석재   1130    2845    1715  15177.0  332925038   775398482945\n",
       "064350      현대로템  15450   38650   23200  15016.0  238083463  7599763880550\n",
       "004565  현대비앤지스틸우  42800  103000   60200  14065.0    1347065   149073187000\n",
       "014790        한라   3905    9150    5245  13431.0   79214334   599224318840\n",
       "109070       컨버즈   4415   10100    5685  12877.0  136031844  1560221993915\n",
       "008250      이건산업   9260   21100   11840  12786.0   40902031   640251300810\n",
       "017800    현대엘리베이  58700  133500   74800  12743.0   83873628  8154611329500\n",
       "071090      하이스틸  21900   48500   26600  12146.0    4654876   176907894800\n",
       "016590     신대양제지  38950   84500   45550  11694.0    4001094   288097842000\n",
       "031430  신세계인터내셔날  80000  170000   90000  11250.0    2615630   336200567800\n",
       "011760      현대상사  18850   40000   21150  11220.0   36029831  1175802820050\n",
       "002760        보락   1410    2975    1565  11099.0  741539510  2025065270725\n",
       "004987   성신양회2우B  11100   23300   12200  10991.0    4920845    94304125950\n",
       "007610      선도전기   3380    6980    3600  10651.0  189396287  1249711222145\n",
       "016385     동부제철우  23000   46950   23950  10413.0     682645    27204648750\n",
       "003415     쌍용양회우  16700   33950   17250  10329.0    2425782    78613739650"
      ],
      "text/html": "<div>\n<style scoped>\n    .dataframe tbody tr th:only-of-type {\n        vertical-align: middle;\n    }\n\n    .dataframe tbody tr th {\n        vertical-align: top;\n    }\n\n    .dataframe thead th {\n        text-align: right;\n    }\n</style>\n<table border=\"1\" class=\"dataframe\">\n  <thead>\n    <tr style=\"text-align: right;\">\n      <th></th>\n      <th>종목명</th>\n      <th>시가</th>\n      <th>종가</th>\n      <th>변동폭</th>\n      <th>등락률</th>\n      <th>거래량</th>\n      <th>거래대금</th>\n    </tr>\n    <tr>\n      <th>티커</th>\n      <th></th>\n      <th></th>\n      <th></th>\n      <th></th>\n      <th></th>\n      <th></th>\n      <th></th>\n    </tr>\n  </thead>\n  <tbody>\n    <tr>\n      <th>011390</th>\n      <td>부산산업</td>\n      <td>37350</td>\n      <td>236500</td>\n      <td>199150</td>\n      <td>53320.0</td>\n      <td>6703921</td>\n      <td>1071435700700</td>\n    </tr>\n    <tr>\n      <th>069460</th>\n      <td>대호에이엘</td>\n      <td>1235</td>\n      <td>7710</td>\n      <td>6475</td>\n      <td>52429.0</td>\n      <td>407474677</td>\n      <td>1761967477807</td>\n    </tr>\n    <tr>\n      <th>006390</th>\n      <td>현대시멘트</td>\n      <td>14800</td>\n      <td>82300</td>\n      <td>67500</td>\n      <td>45608.0</td>\n      <td>25845105</td>\n      <td>1183863721700</td>\n    </tr>\n    <tr>\n      <th>000725</th>\n      <td>현대건설우</td>\n      <td>48900</td>\n      <td>256000</td>\n      <td>207100</td>\n      <td>42352.0</td>\n      <td>640700</td>\n      <td>130457888700</td>\n    </tr>\n    <tr>\n      <th>004985</th>\n      <td>성신양회우</td>\n      <td>4930</td>\n      <td>22000</td>\n      <td>17070</td>\n      <td>34625.0</td>\n      <td>9779103</td>\n      <td>129225868950</td>\n    </tr>\n    <tr>\n      <th>001260</th>\n      <td>남광토건</td>\n      <td>6380</td>\n      <td>28000</td>\n      <td>21620</td>\n      <td>33887.0</td>\n      <td>43589767</td>\n      <td>987283263940</td>\n    </tr>\n    <tr>\n      <th>006490</th>\n      <td>인스코비</td>\n      <td>2730</td>\n      <td>10200</td>\n      <td>7470</td>\n      <td>27363.0</td>\n      <td>686311775</td>\n      <td>6075568899130</td>\n    </tr>\n    <tr>\n      <th>008970</th>\n      <td>동양철관</td>\n      <td>876</td>\n      <td>3265</td>\n      <td>2389</td>\n      <td>27272.0</td>\n      <td>983691990</td>\n      <td>2026803396045</td>\n    </tr>\n    <tr>\n      <th>012205</th>\n      <td>계양전기우</td>\n      <td>3515</td>\n      <td>13100</td>\n      <td>9585</td>\n      <td>27269.0</td>\n      <td>18574164</td>\n      <td>262223627535</td>\n    </tr>\n    <tr>\n      <th>005690</th>\n      <td>파미셀</td>\n      <td>6100</td>\n      <td>19650</td>\n      <td>13550</td>\n      <td>22213.0</td>\n      <td>418325640</td>\n      <td>7111569014460</td>\n    </tr>\n    <tr>\n      <th>004980</th>\n      <td>성신양회</td>\n      <td>5520</td>\n      <td>17000</td>\n      <td>11480</td>\n      <td>20797.0</td>\n      <td>89853305</td>\n      <td>1080538284500</td>\n    </tr>\n    <tr>\n      <th>006345</th>\n      <td>대원전선우</td>\n      <td>2300</td>\n      <td>6690</td>\n      <td>4390</td>\n      <td>19087.0</td>\n      <td>39213671</td>\n      <td>224607983635</td>\n    </tr>\n    <tr>\n      <th>003010</th>\n      <td>혜인</td>\n      <td>3530</td>\n      <td>9720</td>\n      <td>6190</td>\n      <td>17535.0</td>\n      <td>174444069</td>\n      <td>1314662201265</td>\n    </tr>\n    <tr>\n      <th>006340</th>\n      <td>대원전선</td>\n      <td>1115</td>\n      <td>3035</td>\n      <td>1920</td>\n      <td>17220.0</td>\n      <td>656349109</td>\n      <td>1464869220625</td>\n    </tr>\n    <tr>\n      <th>007110</th>\n      <td>일신석재</td>\n      <td>1130</td>\n      <td>2845</td>\n      <td>1715</td>\n      <td>15177.0</td>\n      <td>332925038</td>\n      <td>775398482945</td>\n    </tr>\n    <tr>\n      <th>064350</th>\n      <td>현대로템</td>\n      <td>15450</td>\n      <td>38650</td>\n      <td>23200</td>\n      <td>15016.0</td>\n      <td>238083463</td>\n      <td>7599763880550</td>\n    </tr>\n    <tr>\n      <th>004565</th>\n      <td>현대비앤지스틸우</td>\n      <td>42800</td>\n      <td>103000</td>\n      <td>60200</td>\n      <td>14065.0</td>\n      <td>1347065</td>\n      <td>149073187000</td>\n    </tr>\n    <tr>\n      <th>014790</th>\n      <td>한라</td>\n      <td>3905</td>\n      <td>9150</td>\n      <td>5245</td>\n      <td>13431.0</td>\n      <td>79214334</td>\n      <td>599224318840</td>\n    </tr>\n    <tr>\n      <th>109070</th>\n      <td>컨버즈</td>\n      <td>4415</td>\n      <td>10100</td>\n      <td>5685</td>\n      <td>12877.0</td>\n      <td>136031844</td>\n      <td>1560221993915</td>\n    </tr>\n    <tr>\n      <th>008250</th>\n      <td>이건산업</td>\n      <td>9260</td>\n      <td>21100</td>\n      <td>11840</td>\n      <td>12786.0</td>\n      <td>40902031</td>\n      <td>640251300810</td>\n    </tr>\n    <tr>\n      <th>017800</th>\n      <td>현대엘리베이</td>\n      <td>58700</td>\n      <td>133500</td>\n      <td>74800</td>\n      <td>12743.0</td>\n      <td>83873628</td>\n      <td>8154611329500</td>\n    </tr>\n    <tr>\n      <th>071090</th>\n      <td>하이스틸</td>\n      <td>21900</td>\n      <td>48500</td>\n      <td>26600</td>\n      <td>12146.0</td>\n      <td>4654876</td>\n      <td>176907894800</td>\n    </tr>\n    <tr>\n      <th>016590</th>\n      <td>신대양제지</td>\n      <td>38950</td>\n      <td>84500</td>\n      <td>45550</td>\n      <td>11694.0</td>\n      <td>4001094</td>\n      <td>288097842000</td>\n    </tr>\n    <tr>\n      <th>031430</th>\n      <td>신세계인터내셔날</td>\n      <td>80000</td>\n      <td>170000</td>\n      <td>90000</td>\n      <td>11250.0</td>\n      <td>2615630</td>\n      <td>336200567800</td>\n    </tr>\n    <tr>\n      <th>011760</th>\n      <td>현대상사</td>\n      <td>18850</td>\n      <td>40000</td>\n      <td>21150</td>\n      <td>11220.0</td>\n      <td>36029831</td>\n      <td>1175802820050</td>\n    </tr>\n    <tr>\n      <th>002760</th>\n      <td>보락</td>\n      <td>1410</td>\n      <td>2975</td>\n      <td>1565</td>\n      <td>11099.0</td>\n      <td>741539510</td>\n      <td>2025065270725</td>\n    </tr>\n    <tr>\n      <th>004987</th>\n      <td>성신양회2우B</td>\n      <td>11100</td>\n      <td>23300</td>\n      <td>12200</td>\n      <td>10991.0</td>\n      <td>4920845</td>\n      <td>94304125950</td>\n    </tr>\n    <tr>\n      <th>007610</th>\n      <td>선도전기</td>\n      <td>3380</td>\n      <td>6980</td>\n      <td>3600</td>\n      <td>10651.0</td>\n      <td>189396287</td>\n      <td>1249711222145</td>\n    </tr>\n    <tr>\n      <th>016385</th>\n      <td>동부제철우</td>\n      <td>23000</td>\n      <td>46950</td>\n      <td>23950</td>\n      <td>10413.0</td>\n      <td>682645</td>\n      <td>27204648750</td>\n    </tr>\n    <tr>\n      <th>003415</th>\n      <td>쌍용양회우</td>\n      <td>16700</td>\n      <td>33950</td>\n      <td>17250</td>\n      <td>10329.0</td>\n      <td>2425782</td>\n      <td>78613739650</td>\n    </tr>\n  </tbody>\n</table>\n</div>"
     },
     "metadata": {},
     "execution_count": 9
    }
   ],
   "source": [
    "spring_df = stock.get_market_price_change_by_ticker('20180301', '20180531')\n",
    "spring_df.sort_values('등락률', ascending=False).head(30)"
   ]
  },
  {
   "cell_type": "code",
   "execution_count": null,
   "metadata": {},
   "outputs": [],
   "source": []
  }
 ]
}