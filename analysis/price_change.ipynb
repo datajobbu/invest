{
 "metadata": {
  "language_info": {
   "codemirror_mode": {
    "name": "ipython",
    "version": 3
   },
   "file_extension": ".py",
   "mimetype": "text/x-python",
   "name": "python",
   "nbconvert_exporter": "python",
   "pygments_lexer": "ipython3",
   "version": "3.8.6-final"
  },
  "orig_nbformat": 2,
  "kernelspec": {
   "name": "python3",
   "display_name": "Python 3.8.6 64-bit ('.venv': venv)",
   "metadata": {
    "interpreter": {
     "hash": "7be0b2078a5848467bff6ce927e1ba831ef03680e1ec3b02eded148197376ed2"
    }
   }
  }
 },
 "nbformat": 4,
 "nbformat_minor": 2,
 "cells": [
  {
   "cell_type": "code",
   "execution_count": 12,
   "metadata": {},
   "outputs": [],
   "source": [
    "import datetime\n",
    "\n",
    "from pykrx import stock"
   ]
  },
  {
   "cell_type": "code",
   "execution_count": 22,
   "metadata": {},
   "outputs": [],
   "source": [
    "today = datetime.date.today()\n",
    "weekago = today - datetime.timedelta(days=7)\n",
    "monthago = today - datetime.timedelta(days=30)"
   ]
  },
  {
   "cell_type": "code",
   "execution_count": 23,
   "metadata": {},
   "outputs": [],
   "source": [
    "today = today.strftime('%Y%m%d')\n",
    "weekago = weekago.strftime('%Y%m%d')\n",
    "monthago = monthago.strftime('%Y%m%d')"
   ]
  },
  {
   "cell_type": "code",
   "execution_count": 24,
   "metadata": {},
   "outputs": [],
   "source": [
    "week_df = stock.get_market_price_change_by_ticker(weekago, today)\n",
    "month_df = stock.get_market_price_change_by_ticker(monthago, today)"
   ]
  },
  {
   "cell_type": "code",
   "execution_count": 27,
   "metadata": {},
   "outputs": [
    {
     "output_type": "execute_result",
     "data": {
      "text/plain": [
       "             종목명      시가      종가    변동폭     등락률       거래량          거래대금\n",
       "티커                                                                     \n",
       "012600   센트럴인사이트    7730    3755  -3975 -5142.0  14255437   65923970400\n",
       "013520   화승코퍼레이션    3650    2175  -1475 -4041.0  38711364   89890602665\n",
       "004140        동방   11100    7810  -3290 -2964.0  73197444  720499392370\n",
       "001470      삼부토건    4325    3425   -900 -2081.0  34719974  136256079770\n",
       "009070      KCTC    9360    7440  -1920 -2051.0  78223867  726215446340\n",
       "013700     까뮤이앤씨    3360    2680   -680 -2024.0  37067163  113082055270\n",
       "002410      범양건영    5490    4525   -965 -1758.0   4893883   24029537520\n",
       "023960  에쓰씨엔지니어링    5710    4740   -970 -1699.0   5073708   25318234260\n",
       "063160    종근당바이오   73800   61800 -12000 -1626.0    771603   51281658300\n",
       "185750       종근당  189000  159000 -30000 -1587.0   1223886  204835388500\n",
       "004770      써니전자    4630    3985   -645 -1393.0  17272493   77291134750\n",
       "006740      영풍제지    7690    6660  -1030 -1339.0   2795135   19567909260\n",
       "023800    인지컨트롤스   18000   15650  -2350 -1306.0   1975210   31859895750\n",
       "006650      대한유화  351500  312000 -39500 -1124.0    500140  161781233500\n",
       "111770      영원무역   42900   38100  -4800 -1119.0   1086125   42845776150"
      ],
      "text/html": "<div>\n<style scoped>\n    .dataframe tbody tr th:only-of-type {\n        vertical-align: middle;\n    }\n\n    .dataframe tbody tr th {\n        vertical-align: top;\n    }\n\n    .dataframe thead th {\n        text-align: right;\n    }\n</style>\n<table border=\"1\" class=\"dataframe\">\n  <thead>\n    <tr style=\"text-align: right;\">\n      <th></th>\n      <th>종목명</th>\n      <th>시가</th>\n      <th>종가</th>\n      <th>변동폭</th>\n      <th>등락률</th>\n      <th>거래량</th>\n      <th>거래대금</th>\n    </tr>\n    <tr>\n      <th>티커</th>\n      <th></th>\n      <th></th>\n      <th></th>\n      <th></th>\n      <th></th>\n      <th></th>\n      <th></th>\n    </tr>\n  </thead>\n  <tbody>\n    <tr>\n      <th>012600</th>\n      <td>센트럴인사이트</td>\n      <td>7730</td>\n      <td>3755</td>\n      <td>-3975</td>\n      <td>-5142.0</td>\n      <td>14255437</td>\n      <td>65923970400</td>\n    </tr>\n    <tr>\n      <th>013520</th>\n      <td>화승코퍼레이션</td>\n      <td>3650</td>\n      <td>2175</td>\n      <td>-1475</td>\n      <td>-4041.0</td>\n      <td>38711364</td>\n      <td>89890602665</td>\n    </tr>\n    <tr>\n      <th>004140</th>\n      <td>동방</td>\n      <td>11100</td>\n      <td>7810</td>\n      <td>-3290</td>\n      <td>-2964.0</td>\n      <td>73197444</td>\n      <td>720499392370</td>\n    </tr>\n    <tr>\n      <th>001470</th>\n      <td>삼부토건</td>\n      <td>4325</td>\n      <td>3425</td>\n      <td>-900</td>\n      <td>-2081.0</td>\n      <td>34719974</td>\n      <td>136256079770</td>\n    </tr>\n    <tr>\n      <th>009070</th>\n      <td>KCTC</td>\n      <td>9360</td>\n      <td>7440</td>\n      <td>-1920</td>\n      <td>-2051.0</td>\n      <td>78223867</td>\n      <td>726215446340</td>\n    </tr>\n    <tr>\n      <th>013700</th>\n      <td>까뮤이앤씨</td>\n      <td>3360</td>\n      <td>2680</td>\n      <td>-680</td>\n      <td>-2024.0</td>\n      <td>37067163</td>\n      <td>113082055270</td>\n    </tr>\n    <tr>\n      <th>002410</th>\n      <td>범양건영</td>\n      <td>5490</td>\n      <td>4525</td>\n      <td>-965</td>\n      <td>-1758.0</td>\n      <td>4893883</td>\n      <td>24029537520</td>\n    </tr>\n    <tr>\n      <th>023960</th>\n      <td>에쓰씨엔지니어링</td>\n      <td>5710</td>\n      <td>4740</td>\n      <td>-970</td>\n      <td>-1699.0</td>\n      <td>5073708</td>\n      <td>25318234260</td>\n    </tr>\n    <tr>\n      <th>063160</th>\n      <td>종근당바이오</td>\n      <td>73800</td>\n      <td>61800</td>\n      <td>-12000</td>\n      <td>-1626.0</td>\n      <td>771603</td>\n      <td>51281658300</td>\n    </tr>\n    <tr>\n      <th>185750</th>\n      <td>종근당</td>\n      <td>189000</td>\n      <td>159000</td>\n      <td>-30000</td>\n      <td>-1587.0</td>\n      <td>1223886</td>\n      <td>204835388500</td>\n    </tr>\n    <tr>\n      <th>004770</th>\n      <td>써니전자</td>\n      <td>4630</td>\n      <td>3985</td>\n      <td>-645</td>\n      <td>-1393.0</td>\n      <td>17272493</td>\n      <td>77291134750</td>\n    </tr>\n    <tr>\n      <th>006740</th>\n      <td>영풍제지</td>\n      <td>7690</td>\n      <td>6660</td>\n      <td>-1030</td>\n      <td>-1339.0</td>\n      <td>2795135</td>\n      <td>19567909260</td>\n    </tr>\n    <tr>\n      <th>023800</th>\n      <td>인지컨트롤스</td>\n      <td>18000</td>\n      <td>15650</td>\n      <td>-2350</td>\n      <td>-1306.0</td>\n      <td>1975210</td>\n      <td>31859895750</td>\n    </tr>\n    <tr>\n      <th>006650</th>\n      <td>대한유화</td>\n      <td>351500</td>\n      <td>312000</td>\n      <td>-39500</td>\n      <td>-1124.0</td>\n      <td>500140</td>\n      <td>161781233500</td>\n    </tr>\n    <tr>\n      <th>111770</th>\n      <td>영원무역</td>\n      <td>42900</td>\n      <td>38100</td>\n      <td>-4800</td>\n      <td>-1119.0</td>\n      <td>1086125</td>\n      <td>42845776150</td>\n    </tr>\n  </tbody>\n</table>\n</div>"
     },
     "metadata": {},
     "execution_count": 27
    }
   ],
   "source": [
    "week_df.sort_values('등락률').head(15)"
   ]
  },
  {
   "cell_type": "code",
   "execution_count": null,
   "metadata": {},
   "outputs": [],
   "source": []
  }
 ]
}