{
 "metadata": {
  "language_info": {
   "codemirror_mode": {
    "name": "ipython",
    "version": 3
   },
   "file_extension": ".py",
   "mimetype": "text/x-python",
   "name": "python",
   "nbconvert_exporter": "python",
   "pygments_lexer": "ipython3",
   "version": "3.8.6-final"
  },
  "orig_nbformat": 2,
  "kernelspec": {
   "name": "python3",
   "display_name": "Python 3",
   "language": "python"
  }
 },
 "nbformat": 4,
 "nbformat_minor": 2,
 "cells": [
  {
   "cell_type": "code",
   "execution_count": 28,
   "metadata": {},
   "outputs": [],
   "source": [
    "import time\n",
    "import pandas as pd\n",
    "import numpy as np\n",
    "from pykrx import stock"
   ]
  },
  {
   "cell_type": "code",
   "execution_count": 35,
   "metadata": {},
   "outputs": [],
   "source": [
    "kosdaq = stock.get_market_fundamental_by_ticker(\"20210312\", market=\"KOSDAQ\")\n",
    "kospi = stock.get_market_fundamental_by_ticker(\"20210312\", market=\"KOSPI\")\n",
    "index = stock.get_index_ticker_list()\n",
    "index.extend(stock.get_index_ticker_list(market='KOSDAQ'))"
   ]
  },
  {
   "cell_type": "code",
   "execution_count": 36,
   "metadata": {},
   "outputs": [],
   "source": [
    "df = pd.concat([kospi, kosdaq])"
   ]
  },
  {
   "cell_type": "code",
   "execution_count": 37,
   "metadata": {},
   "outputs": [],
   "source": [
    "stocks = []\n",
    "for idx in index:\n",
    "    stocks.append(stock.get_index_portfolio_deposit_file(idx))\n",
    "    time.sleep(0.5)"
   ]
  },
  {
   "cell_type": "code",
   "execution_count": 39,
   "metadata": {},
   "outputs": [],
   "source": [
    "df['ticker'] = df.index"
   ]
  },
  {
   "cell_type": "code",
   "execution_count": 40,
   "metadata": {},
   "outputs": [],
   "source": [
    "dic = {}\n",
    "for key, value in zip(index, stocks):\n",
    "    dic[key] = value"
   ]
  },
  {
   "cell_type": "code",
   "execution_count": 41,
   "metadata": {},
   "outputs": [],
   "source": [
    "sector = []\n",
    "for i in range(0, len(df)):\n",
    "    each = []\n",
    "    for idx in dic.keys():\n",
    "        if df.iloc[i, -1] in dic[idx]:\n",
    "            each.append(idx)\n",
    "    sector.append(each)"
   ]
  },
  {
   "cell_type": "code",
   "execution_count": 42,
   "metadata": {},
   "outputs": [],
   "source": [
    "sector_all = []\n",
    "for sec in sector:\n",
    "    sector_all.append('/'.join(sec))"
   ]
  },
  {
   "cell_type": "code",
   "execution_count": 43,
   "metadata": {},
   "outputs": [],
   "source": [
    "df['sector'] = sector_all"
   ]
  },
  {
   "cell_type": "code",
   "execution_count": 44,
   "metadata": {},
   "outputs": [
    {
     "output_type": "execute_result",
     "data": {
      "text/plain": [
       "          BPS        PER       PBR   EPS       DIV   DPS  ticker  \\\n",
       "티커                                                                 \n",
       "095570   6802   4.070312  0.589844   982  7.500000   300  095570   \n",
       "006840  62448  13.242188  0.459961  2168  2.609375   750  006840   \n",
       "027410  15699  23.234375  0.419922   281  1.679688   110  027410   \n",
       "282330  36022  19.687500  4.789062  8763  1.570312  2700  282330   \n",
       "138930  25415   3.900391  0.250000  1647  5.609375   360  138930   \n",
       "...       ...        ...       ...   ...       ...   ...     ...   \n",
       "024060   5133  13.070312  1.450195   570  2.009766   150  024060   \n",
       "010240   5477  16.500000  1.709961   568  1.599609   150  010240   \n",
       "189980   1745  29.703125  2.570312   151  0.669922    30  189980   \n",
       "037440   3827  14.898438  1.120117   288  3.500000   150  037440   \n",
       "238490   5382  17.453125  2.460938   759  1.509766   200  238490   \n",
       "\n",
       "                                                   sector  \n",
       "티커                                                         \n",
       "095570                                1001/1004/1026/1244  \n",
       "006840                                1001/1004/1021/1244  \n",
       "027410                                1001/1003/1021/1244  \n",
       "282330  1001/1003/1016/1028/1034/1157/1182/1224/1227/1232  \n",
       "138930  1001/1003/1021/1028/1034/1156/1182/1224/1227/1232  \n",
       "...                                                   ...  \n",
       "024060                                2001/2004/2027/2181  \n",
       "010240                           2001/2004/2024/2070/2183  \n",
       "189980                           2001/2004/2024/2056/2183  \n",
       "037440                                2001/2004/2012/2183  \n",
       "238490                      2001/2004/2015/2043/2159/2181  \n",
       "\n",
       "[2367 rows x 8 columns]"
      ],
      "text/html": "<div>\n<style scoped>\n    .dataframe tbody tr th:only-of-type {\n        vertical-align: middle;\n    }\n\n    .dataframe tbody tr th {\n        vertical-align: top;\n    }\n\n    .dataframe thead th {\n        text-align: right;\n    }\n</style>\n<table border=\"1\" class=\"dataframe\">\n  <thead>\n    <tr style=\"text-align: right;\">\n      <th></th>\n      <th>BPS</th>\n      <th>PER</th>\n      <th>PBR</th>\n      <th>EPS</th>\n      <th>DIV</th>\n      <th>DPS</th>\n      <th>ticker</th>\n      <th>sector</th>\n    </tr>\n    <tr>\n      <th>티커</th>\n      <th></th>\n      <th></th>\n      <th></th>\n      <th></th>\n      <th></th>\n      <th></th>\n      <th></th>\n      <th></th>\n    </tr>\n  </thead>\n  <tbody>\n    <tr>\n      <th>095570</th>\n      <td>6802</td>\n      <td>4.070312</td>\n      <td>0.589844</td>\n      <td>982</td>\n      <td>7.500000</td>\n      <td>300</td>\n      <td>095570</td>\n      <td>1001/1004/1026/1244</td>\n    </tr>\n    <tr>\n      <th>006840</th>\n      <td>62448</td>\n      <td>13.242188</td>\n      <td>0.459961</td>\n      <td>2168</td>\n      <td>2.609375</td>\n      <td>750</td>\n      <td>006840</td>\n      <td>1001/1004/1021/1244</td>\n    </tr>\n    <tr>\n      <th>027410</th>\n      <td>15699</td>\n      <td>23.234375</td>\n      <td>0.419922</td>\n      <td>281</td>\n      <td>1.679688</td>\n      <td>110</td>\n      <td>027410</td>\n      <td>1001/1003/1021/1244</td>\n    </tr>\n    <tr>\n      <th>282330</th>\n      <td>36022</td>\n      <td>19.687500</td>\n      <td>4.789062</td>\n      <td>8763</td>\n      <td>1.570312</td>\n      <td>2700</td>\n      <td>282330</td>\n      <td>1001/1003/1016/1028/1034/1157/1182/1224/1227/1232</td>\n    </tr>\n    <tr>\n      <th>138930</th>\n      <td>25415</td>\n      <td>3.900391</td>\n      <td>0.250000</td>\n      <td>1647</td>\n      <td>5.609375</td>\n      <td>360</td>\n      <td>138930</td>\n      <td>1001/1003/1021/1028/1034/1156/1182/1224/1227/1232</td>\n    </tr>\n    <tr>\n      <th>...</th>\n      <td>...</td>\n      <td>...</td>\n      <td>...</td>\n      <td>...</td>\n      <td>...</td>\n      <td>...</td>\n      <td>...</td>\n      <td>...</td>\n    </tr>\n    <tr>\n      <th>024060</th>\n      <td>5133</td>\n      <td>13.070312</td>\n      <td>1.450195</td>\n      <td>570</td>\n      <td>2.009766</td>\n      <td>150</td>\n      <td>024060</td>\n      <td>2001/2004/2027/2181</td>\n    </tr>\n    <tr>\n      <th>010240</th>\n      <td>5477</td>\n      <td>16.500000</td>\n      <td>1.709961</td>\n      <td>568</td>\n      <td>1.599609</td>\n      <td>150</td>\n      <td>010240</td>\n      <td>2001/2004/2024/2070/2183</td>\n    </tr>\n    <tr>\n      <th>189980</th>\n      <td>1745</td>\n      <td>29.703125</td>\n      <td>2.570312</td>\n      <td>151</td>\n      <td>0.669922</td>\n      <td>30</td>\n      <td>189980</td>\n      <td>2001/2004/2024/2056/2183</td>\n    </tr>\n    <tr>\n      <th>037440</th>\n      <td>3827</td>\n      <td>14.898438</td>\n      <td>1.120117</td>\n      <td>288</td>\n      <td>3.500000</td>\n      <td>150</td>\n      <td>037440</td>\n      <td>2001/2004/2012/2183</td>\n    </tr>\n    <tr>\n      <th>238490</th>\n      <td>5382</td>\n      <td>17.453125</td>\n      <td>2.460938</td>\n      <td>759</td>\n      <td>1.509766</td>\n      <td>200</td>\n      <td>238490</td>\n      <td>2001/2004/2015/2043/2159/2181</td>\n    </tr>\n  </tbody>\n</table>\n<p>2367 rows × 8 columns</p>\n</div>"
     },
     "metadata": {},
     "execution_count": 44
    }
   ],
   "source": [
    "df"
   ]
  },
  {
   "cell_type": "code",
   "execution_count": 46,
   "metadata": {},
   "outputs": [],
   "source": [
    "#df.to_csv('./data/full.csv')"
   ]
  },
  {
   "cell_type": "code",
   "execution_count": 50,
   "metadata": {},
   "outputs": [],
   "source": [
    "transport = df[(df['sector'].str.contains('2075')) | (df['sector'].str.contains('1015'))]"
   ]
  },
  {
   "cell_type": "code",
   "execution_count": 51,
   "metadata": {},
   "outputs": [
    {
     "output_type": "execute_result",
     "data": {
      "text/plain": [
       "(33.12, 1.597)"
      ]
     },
     "metadata": {},
     "execution_count": 51
    }
   ],
   "source": [
    "transport['PER'].mean(), transport['PBR'].mean()"
   ]
  },
  {
   "cell_type": "code",
   "execution_count": 52,
   "metadata": {},
   "outputs": [
    {
     "output_type": "execute_result",
     "data": {
      "text/plain": [
       "           BPS        PER       PBR    EPS       DIV   DPS  ticker  \\\n",
       "티커                                                                   \n",
       "123700   10621   9.289062  0.379883    438  3.070312   125  123700   \n",
       "003570   18558  11.992188  0.399902    622  4.019531   300  003570   \n",
       "000430    7743  15.828125  0.529785    258  2.820312   115  000430   \n",
       "015230   12724   6.781250  0.549805   1039  3.130859   220  015230   \n",
       "092780    8059   8.093750  0.759766    753  1.969727   120  092780   \n",
       "018500    1363   3.429688  0.879883    350  0.000000     0  018500   \n",
       "016740    5223  12.937500  0.930176    374  1.650391    80  016740   \n",
       "006660   26712  14.859375  0.330078    593  0.680176    60  006660   \n",
       "023000    5249  13.468750  0.669922    261  3.269531   115  023000   \n",
       "021820   41536  10.640625  0.189941    760  0.310059    25  021820   \n",
       "005850   28224  11.750000  0.819824   1979  1.719727   400  005850   \n",
       "002920   10636   4.511719  0.290039    678  6.550781   200  002920   \n",
       "010100    7092   7.488281  0.389893    373  1.790039    50  010100   \n",
       "012450   48217  16.125000  0.859863   2558  0.000000     0  012450   \n",
       "012330  339207  12.523438  0.890137  24234  1.320312  4000  012330   \n",
       "013520    4046   9.710938  0.899902    376  0.680176    25  013520   \n",
       "090150    4315  18.093750  0.939941    223  2.480469   100  090150   \n",
       "212560   10077  18.390625  0.580078    317  0.859863    50  212560   \n",
       "108380   21740  12.070312  0.740234   1334  1.240234   200  108380   \n",
       "005710   15540   3.390625  0.429932   1950  1.889648   125  005710   \n",
       "015750   13553  13.210938  0.479980    492  1.230469    80  015750   \n",
       "024830   22641   3.990234  0.280029   1572  0.399902    25  024830   \n",
       "013310    5499   9.242188  0.709961    421  0.000000     0  013310   \n",
       "064820    5801  18.796875  0.839844    260  0.000000     0  064820   \n",
       "123410    4293  14.929688  0.720215    206  1.950195    60  123410   \n",
       "043370   27452   7.171875  0.389893   1506  1.669922   180  043370   \n",
       "024740    3698  17.843750  0.520020    107  0.000000     0  024740   \n",
       "126640    2217  17.468750  0.779785     99  1.730469    30  126640   \n",
       "\n",
       "                                                   sector  \n",
       "티커                                                         \n",
       "123700                           1001/1004/1015/1027/1244  \n",
       "003570                           1001/1004/1015/1027/1244  \n",
       "000430                           1001/1004/1015/1027/1244  \n",
       "015230                           1001/1004/1015/1027/1244  \n",
       "092780                           1001/1004/1015/1027/1244  \n",
       "018500                           1001/1004/1015/1027/1244  \n",
       "016740                           1001/1004/1015/1027/1244  \n",
       "006660                           1001/1004/1015/1027/1244  \n",
       "023000                           1001/1004/1015/1027/1244  \n",
       "021820                           1001/1004/1015/1027/1244  \n",
       "005850                           1001/1003/1015/1027/1244  \n",
       "002920                           1001/1004/1015/1027/1244  \n",
       "010100                           1001/1004/1015/1027/1244  \n",
       "012450  1001/1003/1015/1027/1028/1159/1167/1182/1224/1...  \n",
       "012330  1001/1002/1015/1027/1028/1034/1035/1158/1182/1...  \n",
       "013520                           1001/1004/1015/1027/1244  \n",
       "090150                           2001/2004/2024/2075/2183  \n",
       "212560                           2001/2004/2024/2075/2181  \n",
       "108380                           2001/2004/2024/2075/2181  \n",
       "005710                           2001/2004/2024/2075/2181  \n",
       "015750                           2001/2003/2024/2075/2181  \n",
       "024830                                2001/2004/2024/2075  \n",
       "013310                           2001/2004/2024/2075/2181  \n",
       "064820                           2001/2004/2024/2075/2182  \n",
       "123410                           2001/2004/2024/2075/2181  \n",
       "043370                           2001/2004/2024/2075/2181  \n",
       "024740                           2001/2004/2024/2075/2183  \n",
       "126640                           2001/2004/2024/2075/2183  "
      ],
      "text/html": "<div>\n<style scoped>\n    .dataframe tbody tr th:only-of-type {\n        vertical-align: middle;\n    }\n\n    .dataframe tbody tr th {\n        vertical-align: top;\n    }\n\n    .dataframe thead th {\n        text-align: right;\n    }\n</style>\n<table border=\"1\" class=\"dataframe\">\n  <thead>\n    <tr style=\"text-align: right;\">\n      <th></th>\n      <th>BPS</th>\n      <th>PER</th>\n      <th>PBR</th>\n      <th>EPS</th>\n      <th>DIV</th>\n      <th>DPS</th>\n      <th>ticker</th>\n      <th>sector</th>\n    </tr>\n    <tr>\n      <th>티커</th>\n      <th></th>\n      <th></th>\n      <th></th>\n      <th></th>\n      <th></th>\n      <th></th>\n      <th></th>\n      <th></th>\n    </tr>\n  </thead>\n  <tbody>\n    <tr>\n      <th>123700</th>\n      <td>10621</td>\n      <td>9.289062</td>\n      <td>0.379883</td>\n      <td>438</td>\n      <td>3.070312</td>\n      <td>125</td>\n      <td>123700</td>\n      <td>1001/1004/1015/1027/1244</td>\n    </tr>\n    <tr>\n      <th>003570</th>\n      <td>18558</td>\n      <td>11.992188</td>\n      <td>0.399902</td>\n      <td>622</td>\n      <td>4.019531</td>\n      <td>300</td>\n      <td>003570</td>\n      <td>1001/1004/1015/1027/1244</td>\n    </tr>\n    <tr>\n      <th>000430</th>\n      <td>7743</td>\n      <td>15.828125</td>\n      <td>0.529785</td>\n      <td>258</td>\n      <td>2.820312</td>\n      <td>115</td>\n      <td>000430</td>\n      <td>1001/1004/1015/1027/1244</td>\n    </tr>\n    <tr>\n      <th>015230</th>\n      <td>12724</td>\n      <td>6.781250</td>\n      <td>0.549805</td>\n      <td>1039</td>\n      <td>3.130859</td>\n      <td>220</td>\n      <td>015230</td>\n      <td>1001/1004/1015/1027/1244</td>\n    </tr>\n    <tr>\n      <th>092780</th>\n      <td>8059</td>\n      <td>8.093750</td>\n      <td>0.759766</td>\n      <td>753</td>\n      <td>1.969727</td>\n      <td>120</td>\n      <td>092780</td>\n      <td>1001/1004/1015/1027/1244</td>\n    </tr>\n    <tr>\n      <th>018500</th>\n      <td>1363</td>\n      <td>3.429688</td>\n      <td>0.879883</td>\n      <td>350</td>\n      <td>0.000000</td>\n      <td>0</td>\n      <td>018500</td>\n      <td>1001/1004/1015/1027/1244</td>\n    </tr>\n    <tr>\n      <th>016740</th>\n      <td>5223</td>\n      <td>12.937500</td>\n      <td>0.930176</td>\n      <td>374</td>\n      <td>1.650391</td>\n      <td>80</td>\n      <td>016740</td>\n      <td>1001/1004/1015/1027/1244</td>\n    </tr>\n    <tr>\n      <th>006660</th>\n      <td>26712</td>\n      <td>14.859375</td>\n      <td>0.330078</td>\n      <td>593</td>\n      <td>0.680176</td>\n      <td>60</td>\n      <td>006660</td>\n      <td>1001/1004/1015/1027/1244</td>\n    </tr>\n    <tr>\n      <th>023000</th>\n      <td>5249</td>\n      <td>13.468750</td>\n      <td>0.669922</td>\n      <td>261</td>\n      <td>3.269531</td>\n      <td>115</td>\n      <td>023000</td>\n      <td>1001/1004/1015/1027/1244</td>\n    </tr>\n    <tr>\n      <th>021820</th>\n      <td>41536</td>\n      <td>10.640625</td>\n      <td>0.189941</td>\n      <td>760</td>\n      <td>0.310059</td>\n      <td>25</td>\n      <td>021820</td>\n      <td>1001/1004/1015/1027/1244</td>\n    </tr>\n    <tr>\n      <th>005850</th>\n      <td>28224</td>\n      <td>11.750000</td>\n      <td>0.819824</td>\n      <td>1979</td>\n      <td>1.719727</td>\n      <td>400</td>\n      <td>005850</td>\n      <td>1001/1003/1015/1027/1244</td>\n    </tr>\n    <tr>\n      <th>002920</th>\n      <td>10636</td>\n      <td>4.511719</td>\n      <td>0.290039</td>\n      <td>678</td>\n      <td>6.550781</td>\n      <td>200</td>\n      <td>002920</td>\n      <td>1001/1004/1015/1027/1244</td>\n    </tr>\n    <tr>\n      <th>010100</th>\n      <td>7092</td>\n      <td>7.488281</td>\n      <td>0.389893</td>\n      <td>373</td>\n      <td>1.790039</td>\n      <td>50</td>\n      <td>010100</td>\n      <td>1001/1004/1015/1027/1244</td>\n    </tr>\n    <tr>\n      <th>012450</th>\n      <td>48217</td>\n      <td>16.125000</td>\n      <td>0.859863</td>\n      <td>2558</td>\n      <td>0.000000</td>\n      <td>0</td>\n      <td>012450</td>\n      <td>1001/1003/1015/1027/1028/1159/1167/1182/1224/1...</td>\n    </tr>\n    <tr>\n      <th>012330</th>\n      <td>339207</td>\n      <td>12.523438</td>\n      <td>0.890137</td>\n      <td>24234</td>\n      <td>1.320312</td>\n      <td>4000</td>\n      <td>012330</td>\n      <td>1001/1002/1015/1027/1028/1034/1035/1158/1182/1...</td>\n    </tr>\n    <tr>\n      <th>013520</th>\n      <td>4046</td>\n      <td>9.710938</td>\n      <td>0.899902</td>\n      <td>376</td>\n      <td>0.680176</td>\n      <td>25</td>\n      <td>013520</td>\n      <td>1001/1004/1015/1027/1244</td>\n    </tr>\n    <tr>\n      <th>090150</th>\n      <td>4315</td>\n      <td>18.093750</td>\n      <td>0.939941</td>\n      <td>223</td>\n      <td>2.480469</td>\n      <td>100</td>\n      <td>090150</td>\n      <td>2001/2004/2024/2075/2183</td>\n    </tr>\n    <tr>\n      <th>212560</th>\n      <td>10077</td>\n      <td>18.390625</td>\n      <td>0.580078</td>\n      <td>317</td>\n      <td>0.859863</td>\n      <td>50</td>\n      <td>212560</td>\n      <td>2001/2004/2024/2075/2181</td>\n    </tr>\n    <tr>\n      <th>108380</th>\n      <td>21740</td>\n      <td>12.070312</td>\n      <td>0.740234</td>\n      <td>1334</td>\n      <td>1.240234</td>\n      <td>200</td>\n      <td>108380</td>\n      <td>2001/2004/2024/2075/2181</td>\n    </tr>\n    <tr>\n      <th>005710</th>\n      <td>15540</td>\n      <td>3.390625</td>\n      <td>0.429932</td>\n      <td>1950</td>\n      <td>1.889648</td>\n      <td>125</td>\n      <td>005710</td>\n      <td>2001/2004/2024/2075/2181</td>\n    </tr>\n    <tr>\n      <th>015750</th>\n      <td>13553</td>\n      <td>13.210938</td>\n      <td>0.479980</td>\n      <td>492</td>\n      <td>1.230469</td>\n      <td>80</td>\n      <td>015750</td>\n      <td>2001/2003/2024/2075/2181</td>\n    </tr>\n    <tr>\n      <th>024830</th>\n      <td>22641</td>\n      <td>3.990234</td>\n      <td>0.280029</td>\n      <td>1572</td>\n      <td>0.399902</td>\n      <td>25</td>\n      <td>024830</td>\n      <td>2001/2004/2024/2075</td>\n    </tr>\n    <tr>\n      <th>013310</th>\n      <td>5499</td>\n      <td>9.242188</td>\n      <td>0.709961</td>\n      <td>421</td>\n      <td>0.000000</td>\n      <td>0</td>\n      <td>013310</td>\n      <td>2001/2004/2024/2075/2181</td>\n    </tr>\n    <tr>\n      <th>064820</th>\n      <td>5801</td>\n      <td>18.796875</td>\n      <td>0.839844</td>\n      <td>260</td>\n      <td>0.000000</td>\n      <td>0</td>\n      <td>064820</td>\n      <td>2001/2004/2024/2075/2182</td>\n    </tr>\n    <tr>\n      <th>123410</th>\n      <td>4293</td>\n      <td>14.929688</td>\n      <td>0.720215</td>\n      <td>206</td>\n      <td>1.950195</td>\n      <td>60</td>\n      <td>123410</td>\n      <td>2001/2004/2024/2075/2181</td>\n    </tr>\n    <tr>\n      <th>043370</th>\n      <td>27452</td>\n      <td>7.171875</td>\n      <td>0.389893</td>\n      <td>1506</td>\n      <td>1.669922</td>\n      <td>180</td>\n      <td>043370</td>\n      <td>2001/2004/2024/2075/2181</td>\n    </tr>\n    <tr>\n      <th>024740</th>\n      <td>3698</td>\n      <td>17.843750</td>\n      <td>0.520020</td>\n      <td>107</td>\n      <td>0.000000</td>\n      <td>0</td>\n      <td>024740</td>\n      <td>2001/2004/2024/2075/2183</td>\n    </tr>\n    <tr>\n      <th>126640</th>\n      <td>2217</td>\n      <td>17.468750</td>\n      <td>0.779785</td>\n      <td>99</td>\n      <td>1.730469</td>\n      <td>30</td>\n      <td>126640</td>\n      <td>2001/2004/2024/2075/2183</td>\n    </tr>\n  </tbody>\n</table>\n</div>"
     },
     "metadata": {},
     "execution_count": 52
    }
   ],
   "source": [
    "transport[(transport['PER'] <= 20) & (transport['PER'] > 0) \\\n",
    "    & (transport['PBR'] <= 1)]"
   ]
  },
  {
   "cell_type": "code",
   "execution_count": null,
   "metadata": {},
   "outputs": [],
   "source": []
  }
 ]
}