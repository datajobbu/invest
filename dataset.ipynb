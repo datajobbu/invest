{
 "metadata": {
  "language_info": {
   "codemirror_mode": {
    "name": "ipython",
    "version": 3
   },
   "file_extension": ".py",
   "mimetype": "text/x-python",
   "name": "python",
   "nbconvert_exporter": "python",
   "pygments_lexer": "ipython3",
   "version": "3.8.6-final"
  },
  "orig_nbformat": 2,
  "kernelspec": {
   "name": "python3",
   "display_name": "Python 3.8.6 64-bit ('.venv': venv)",
   "metadata": {
    "interpreter": {
     "hash": "7be0b2078a5848467bff6ce927e1ba831ef03680e1ec3b02eded148197376ed2"
    }
   }
  }
 },
 "nbformat": 4,
 "nbformat_minor": 2,
 "cells": [
  {
   "cell_type": "code",
   "execution_count": 7,
   "metadata": {},
   "outputs": [],
   "source": [
    "import time\n",
    "import pandas as pd\n",
    "import numpy as np\n",
    "\n",
    "from pykrx import stock"
   ]
  },
  {
   "cell_type": "code",
   "execution_count": 74,
   "metadata": {},
   "outputs": [],
   "source": [
    "df = stock.get_market_fundamental_by_ticker(\"20210312\", market=\"KOSDAQ\")\n",
    "index = stock.get_index_ticker_list(market=\"KOSDAQ\")"
   ]
  },
  {
   "cell_type": "code",
   "execution_count": 75,
   "metadata": {},
   "outputs": [],
   "source": [
    "stocks = []\n",
    "for idx in index:\n",
    "    stocks.append(stock.get_index_portfolio_deposit_file(idx))\n",
    "    time.sleep(1)    "
   ]
  },
  {
   "cell_type": "code",
   "execution_count": 76,
   "metadata": {},
   "outputs": [],
   "source": [
    "dic = {}\n",
    "for key, value in zip(index, stocks):\n",
    "    dic[key] = value"
   ]
  },
  {
   "cell_type": "code",
   "execution_count": 77,
   "metadata": {},
   "outputs": [],
   "source": [
    "df['ticker'] = df.index"
   ]
  },
  {
   "cell_type": "code",
   "execution_count": 56,
   "metadata": {},
   "outputs": [
    {
     "output_type": "execute_result",
     "data": {
      "text/plain": [
       "          BPS        PER       PBR   EPS       DIV   DPS  ticker\n",
       "티커                                                              \n",
       "095570   6802   4.070312  0.589844   982  7.500000   300    1026\n",
       "006840  62448  13.242188  0.459961  2168  2.609375   750    1021\n",
       "027410  15699  23.234375  0.419922   281  1.679688   110    1021\n",
       "282330  36022  19.687500  4.789062  8763  1.570312  2700    1016\n",
       "138930  25415   3.900391  0.250000  1647  5.609375   360    1021\n",
       "...       ...        ...       ...   ...       ...   ...     ...\n",
       "069260  15970  13.218750  1.500000  1812  4.179688  1000    1008\n",
       "000540  10926   7.570312  0.350098   510  0.000000     0    1021\n",
       "000547      0   0.000000  0.000000     0  0.000000     0  000547\n",
       "000545      0   0.000000  0.000000     0  0.000000     0  000545\n",
       "003280    276   0.000000  0.930176     0  0.000000     0    1019\n",
       "\n",
       "[898 rows x 7 columns]"
      ],
      "text/html": "<div>\n<style scoped>\n    .dataframe tbody tr th:only-of-type {\n        vertical-align: middle;\n    }\n\n    .dataframe tbody tr th {\n        vertical-align: top;\n    }\n\n    .dataframe thead th {\n        text-align: right;\n    }\n</style>\n<table border=\"1\" class=\"dataframe\">\n  <thead>\n    <tr style=\"text-align: right;\">\n      <th></th>\n      <th>BPS</th>\n      <th>PER</th>\n      <th>PBR</th>\n      <th>EPS</th>\n      <th>DIV</th>\n      <th>DPS</th>\n      <th>ticker</th>\n    </tr>\n    <tr>\n      <th>티커</th>\n      <th></th>\n      <th></th>\n      <th></th>\n      <th></th>\n      <th></th>\n      <th></th>\n      <th></th>\n    </tr>\n  </thead>\n  <tbody>\n    <tr>\n      <th>095570</th>\n      <td>6802</td>\n      <td>4.070312</td>\n      <td>0.589844</td>\n      <td>982</td>\n      <td>7.500000</td>\n      <td>300</td>\n      <td>1026</td>\n    </tr>\n    <tr>\n      <th>006840</th>\n      <td>62448</td>\n      <td>13.242188</td>\n      <td>0.459961</td>\n      <td>2168</td>\n      <td>2.609375</td>\n      <td>750</td>\n      <td>1021</td>\n    </tr>\n    <tr>\n      <th>027410</th>\n      <td>15699</td>\n      <td>23.234375</td>\n      <td>0.419922</td>\n      <td>281</td>\n      <td>1.679688</td>\n      <td>110</td>\n      <td>1021</td>\n    </tr>\n    <tr>\n      <th>282330</th>\n      <td>36022</td>\n      <td>19.687500</td>\n      <td>4.789062</td>\n      <td>8763</td>\n      <td>1.570312</td>\n      <td>2700</td>\n      <td>1016</td>\n    </tr>\n    <tr>\n      <th>138930</th>\n      <td>25415</td>\n      <td>3.900391</td>\n      <td>0.250000</td>\n      <td>1647</td>\n      <td>5.609375</td>\n      <td>360</td>\n      <td>1021</td>\n    </tr>\n    <tr>\n      <th>...</th>\n      <td>...</td>\n      <td>...</td>\n      <td>...</td>\n      <td>...</td>\n      <td>...</td>\n      <td>...</td>\n      <td>...</td>\n    </tr>\n    <tr>\n      <th>069260</th>\n      <td>15970</td>\n      <td>13.218750</td>\n      <td>1.500000</td>\n      <td>1812</td>\n      <td>4.179688</td>\n      <td>1000</td>\n      <td>1008</td>\n    </tr>\n    <tr>\n      <th>000540</th>\n      <td>10926</td>\n      <td>7.570312</td>\n      <td>0.350098</td>\n      <td>510</td>\n      <td>0.000000</td>\n      <td>0</td>\n      <td>1021</td>\n    </tr>\n    <tr>\n      <th>000547</th>\n      <td>0</td>\n      <td>0.000000</td>\n      <td>0.000000</td>\n      <td>0</td>\n      <td>0.000000</td>\n      <td>0</td>\n      <td>000547</td>\n    </tr>\n    <tr>\n      <th>000545</th>\n      <td>0</td>\n      <td>0.000000</td>\n      <td>0.000000</td>\n      <td>0</td>\n      <td>0.000000</td>\n      <td>0</td>\n      <td>000545</td>\n    </tr>\n    <tr>\n      <th>003280</th>\n      <td>276</td>\n      <td>0.000000</td>\n      <td>0.930176</td>\n      <td>0</td>\n      <td>0.000000</td>\n      <td>0</td>\n      <td>1019</td>\n    </tr>\n  </tbody>\n</table>\n<p>898 rows × 7 columns</p>\n</div>"
     },
     "metadata": {},
     "execution_count": 56
    }
   ],
   "source": [
    "df"
   ]
  },
  {
   "cell_type": "code",
   "execution_count": 55,
   "metadata": {
    "tags": []
   },
   "outputs": [],
   "source": [
    "for i in range(0, len(df)):\n",
    "    for sec in dic.keys():\n",
    "        if df.iloc[i, -1] in dic[sec]:\n",
    "            df.iloc[i, -1] = sec"
   ]
  },
  {
   "cell_type": "code",
   "execution_count": 52,
   "metadata": {},
   "outputs": [],
   "source": [
    "del dic['1003']"
   ]
  },
  {
   "cell_type": "code",
   "execution_count": 38,
   "metadata": {},
   "outputs": [
    {
     "output_type": "execute_result",
     "data": {
      "text/plain": [
       "dict_keys(['1002', '1003', '1004', '1005', '1006', '1007', '1008', '1009', '1010', '1011', '1012', '1013', '1014', '1015', '1016', '1017', '1018', '1019', '1020', '1021', '1022', '1024', '1025', '1026', '1027', '1028', '1034', '1035', '1150', '1151', '1152', '1153', '1154', '1155', '1156', '1157', '1158', '1159', '1160', '1167', '1182', '1224', '1227', '1232', '1244'])"
      ]
     },
     "metadata": {},
     "execution_count": 38
    }
   ],
   "source": [
    "dic.keys()"
   ]
  },
  {
   "cell_type": "code",
   "execution_count": 27,
   "metadata": {},
   "outputs": [
    {
     "output_type": "execute_result",
     "data": {
      "text/plain": [
       "True"
      ]
     },
     "metadata": {},
     "execution_count": 27
    }
   ],
   "source": [
    "'011300' in dic['1006']"
   ]
  },
  {
   "cell_type": "code",
   "execution_count": 66,
   "metadata": {},
   "outputs": [],
   "source": [
    "mat = df[df['ticker']=='1015']"
   ]
  },
  {
   "cell_type": "code",
   "execution_count": 67,
   "metadata": {},
   "outputs": [
    {
     "output_type": "execute_result",
     "data": {
      "text/plain": [
       "(29.38, 1.257)"
      ]
     },
     "metadata": {},
     "execution_count": 67
    }
   ],
   "source": [
    "mat['PER'].mean(), mat['PBR'].mean()"
   ]
  },
  {
   "cell_type": "code",
   "execution_count": 68,
   "metadata": {},
   "outputs": [
    {
     "output_type": "execute_result",
     "data": {
      "text/plain": [
       "           BPS        PER       PBR    EPS       DIV   DPS ticker\n",
       "티커                                                               \n",
       "123700   10621   9.289062  0.379883    438  3.070312   125   1015\n",
       "003570   18558  11.992188  0.399902    622  4.019531   300   1015\n",
       "000430    7743  15.828125  0.529785    258  2.820312   115   1015\n",
       "015230   12724   6.781250  0.549805   1039  3.130859   220   1015\n",
       "092780    8059   8.093750  0.759766    753  1.969727   120   1015\n",
       "018500    1363   3.429688  0.879883    350  0.000000     0   1015\n",
       "016740    5223  12.937500  0.930176    374  1.650391    80   1015\n",
       "006660   26712  14.859375  0.330078    593  0.680176    60   1015\n",
       "023000    5249  13.468750  0.669922    261  3.269531   115   1015\n",
       "041650    7924  20.640625  0.549805    210  2.310547   100   1015\n",
       "021820   41536  10.640625  0.189941    760  0.310059    25   1015\n",
       "005850   28224  11.750000  0.819824   1979  1.719727   400   1015\n",
       "002920   10636   4.511719  0.290039    678  6.550781   200   1015\n",
       "010100    7092   7.488281  0.389893    373  1.790039    50   1015\n",
       "012450   48217  16.125000  0.859863   2558  0.000000     0   1015\n",
       "143210   14807  21.406250  0.459961    320  1.900391   130   1015\n",
       "012330  339207  12.523438  0.890137  24234  1.320312  4000   1015\n",
       "005380  253001  20.562500  0.919922  11310  1.719727  4000   1015\n",
       "013520    4046   9.710938  0.899902    376  0.680176    25   1015\n",
       "010690    8582  24.281250  0.569824    202  1.019531    50   1015"
      ],
      "text/html": "<div>\n<style scoped>\n    .dataframe tbody tr th:only-of-type {\n        vertical-align: middle;\n    }\n\n    .dataframe tbody tr th {\n        vertical-align: top;\n    }\n\n    .dataframe thead th {\n        text-align: right;\n    }\n</style>\n<table border=\"1\" class=\"dataframe\">\n  <thead>\n    <tr style=\"text-align: right;\">\n      <th></th>\n      <th>BPS</th>\n      <th>PER</th>\n      <th>PBR</th>\n      <th>EPS</th>\n      <th>DIV</th>\n      <th>DPS</th>\n      <th>ticker</th>\n    </tr>\n    <tr>\n      <th>티커</th>\n      <th></th>\n      <th></th>\n      <th></th>\n      <th></th>\n      <th></th>\n      <th></th>\n      <th></th>\n    </tr>\n  </thead>\n  <tbody>\n    <tr>\n      <th>123700</th>\n      <td>10621</td>\n      <td>9.289062</td>\n      <td>0.379883</td>\n      <td>438</td>\n      <td>3.070312</td>\n      <td>125</td>\n      <td>1015</td>\n    </tr>\n    <tr>\n      <th>003570</th>\n      <td>18558</td>\n      <td>11.992188</td>\n      <td>0.399902</td>\n      <td>622</td>\n      <td>4.019531</td>\n      <td>300</td>\n      <td>1015</td>\n    </tr>\n    <tr>\n      <th>000430</th>\n      <td>7743</td>\n      <td>15.828125</td>\n      <td>0.529785</td>\n      <td>258</td>\n      <td>2.820312</td>\n      <td>115</td>\n      <td>1015</td>\n    </tr>\n    <tr>\n      <th>015230</th>\n      <td>12724</td>\n      <td>6.781250</td>\n      <td>0.549805</td>\n      <td>1039</td>\n      <td>3.130859</td>\n      <td>220</td>\n      <td>1015</td>\n    </tr>\n    <tr>\n      <th>092780</th>\n      <td>8059</td>\n      <td>8.093750</td>\n      <td>0.759766</td>\n      <td>753</td>\n      <td>1.969727</td>\n      <td>120</td>\n      <td>1015</td>\n    </tr>\n    <tr>\n      <th>018500</th>\n      <td>1363</td>\n      <td>3.429688</td>\n      <td>0.879883</td>\n      <td>350</td>\n      <td>0.000000</td>\n      <td>0</td>\n      <td>1015</td>\n    </tr>\n    <tr>\n      <th>016740</th>\n      <td>5223</td>\n      <td>12.937500</td>\n      <td>0.930176</td>\n      <td>374</td>\n      <td>1.650391</td>\n      <td>80</td>\n      <td>1015</td>\n    </tr>\n    <tr>\n      <th>006660</th>\n      <td>26712</td>\n      <td>14.859375</td>\n      <td>0.330078</td>\n      <td>593</td>\n      <td>0.680176</td>\n      <td>60</td>\n      <td>1015</td>\n    </tr>\n    <tr>\n      <th>023000</th>\n      <td>5249</td>\n      <td>13.468750</td>\n      <td>0.669922</td>\n      <td>261</td>\n      <td>3.269531</td>\n      <td>115</td>\n      <td>1015</td>\n    </tr>\n    <tr>\n      <th>041650</th>\n      <td>7924</td>\n      <td>20.640625</td>\n      <td>0.549805</td>\n      <td>210</td>\n      <td>2.310547</td>\n      <td>100</td>\n      <td>1015</td>\n    </tr>\n    <tr>\n      <th>021820</th>\n      <td>41536</td>\n      <td>10.640625</td>\n      <td>0.189941</td>\n      <td>760</td>\n      <td>0.310059</td>\n      <td>25</td>\n      <td>1015</td>\n    </tr>\n    <tr>\n      <th>005850</th>\n      <td>28224</td>\n      <td>11.750000</td>\n      <td>0.819824</td>\n      <td>1979</td>\n      <td>1.719727</td>\n      <td>400</td>\n      <td>1015</td>\n    </tr>\n    <tr>\n      <th>002920</th>\n      <td>10636</td>\n      <td>4.511719</td>\n      <td>0.290039</td>\n      <td>678</td>\n      <td>6.550781</td>\n      <td>200</td>\n      <td>1015</td>\n    </tr>\n    <tr>\n      <th>010100</th>\n      <td>7092</td>\n      <td>7.488281</td>\n      <td>0.389893</td>\n      <td>373</td>\n      <td>1.790039</td>\n      <td>50</td>\n      <td>1015</td>\n    </tr>\n    <tr>\n      <th>012450</th>\n      <td>48217</td>\n      <td>16.125000</td>\n      <td>0.859863</td>\n      <td>2558</td>\n      <td>0.000000</td>\n      <td>0</td>\n      <td>1015</td>\n    </tr>\n    <tr>\n      <th>143210</th>\n      <td>14807</td>\n      <td>21.406250</td>\n      <td>0.459961</td>\n      <td>320</td>\n      <td>1.900391</td>\n      <td>130</td>\n      <td>1015</td>\n    </tr>\n    <tr>\n      <th>012330</th>\n      <td>339207</td>\n      <td>12.523438</td>\n      <td>0.890137</td>\n      <td>24234</td>\n      <td>1.320312</td>\n      <td>4000</td>\n      <td>1015</td>\n    </tr>\n    <tr>\n      <th>005380</th>\n      <td>253001</td>\n      <td>20.562500</td>\n      <td>0.919922</td>\n      <td>11310</td>\n      <td>1.719727</td>\n      <td>4000</td>\n      <td>1015</td>\n    </tr>\n    <tr>\n      <th>013520</th>\n      <td>4046</td>\n      <td>9.710938</td>\n      <td>0.899902</td>\n      <td>376</td>\n      <td>0.680176</td>\n      <td>25</td>\n      <td>1015</td>\n    </tr>\n    <tr>\n      <th>010690</th>\n      <td>8582</td>\n      <td>24.281250</td>\n      <td>0.569824</td>\n      <td>202</td>\n      <td>1.019531</td>\n      <td>50</td>\n      <td>1015</td>\n    </tr>\n  </tbody>\n</table>\n</div>"
     },
     "metadata": {},
     "execution_count": 68
    }
   ],
   "source": [
    "mat[(mat['PER'] <= 25) & (mat['PBR'] <= 1) & (mat['PER'] > 0)]"
   ]
  },
  {
   "cell_type": "code",
   "execution_count": 70,
   "metadata": {},
   "outputs": [],
   "source": [
    "df['ticker'] = df.index"
   ]
  },
  {
   "cell_type": "code",
   "execution_count": 78,
   "metadata": {},
   "outputs": [
    {
     "output_type": "execute_result",
     "data": {
      "text/plain": [
       "         BPS     PER       PBR  EPS  DIV  DPS  ticker\n",
       "티커                                                   \n",
       "035810  7110  128.25  0.700195   39  1.0   50  035810"
      ],
      "text/html": "<div>\n<style scoped>\n    .dataframe tbody tr th:only-of-type {\n        vertical-align: middle;\n    }\n\n    .dataframe tbody tr th {\n        vertical-align: top;\n    }\n\n    .dataframe thead th {\n        text-align: right;\n    }\n</style>\n<table border=\"1\" class=\"dataframe\">\n  <thead>\n    <tr style=\"text-align: right;\">\n      <th></th>\n      <th>BPS</th>\n      <th>PER</th>\n      <th>PBR</th>\n      <th>EPS</th>\n      <th>DIV</th>\n      <th>DPS</th>\n      <th>ticker</th>\n    </tr>\n    <tr>\n      <th>티커</th>\n      <th></th>\n      <th></th>\n      <th></th>\n      <th></th>\n      <th></th>\n      <th></th>\n      <th></th>\n    </tr>\n  </thead>\n  <tbody>\n    <tr>\n      <th>035810</th>\n      <td>7110</td>\n      <td>128.25</td>\n      <td>0.700195</td>\n      <td>39</td>\n      <td>1.0</td>\n      <td>50</td>\n      <td>035810</td>\n    </tr>\n  </tbody>\n</table>\n</div>"
     },
     "metadata": {},
     "execution_count": 78
    }
   ],
   "source": [
    "df[df['ticker']=='035810']"
   ]
  },
  {
   "cell_type": "code",
   "execution_count": null,
   "metadata": {},
   "outputs": [],
   "source": []
  }
 ]
}